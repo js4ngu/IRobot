{
 "cells": [
  {
   "cell_type": "code",
   "execution_count": 263,
   "id": "03c85951",
   "metadata": {},
   "outputs": [],
   "source": [
    "import sympy\n",
    "sympy.init_printing()"
   ]
  },
  {
   "cell_type": "code",
   "execution_count": 264,
   "id": "84fcf1d2",
   "metadata": {},
   "outputs": [],
   "source": [
    "# DH 파라미터를 이용해 Homogeneous Transformation Matrix 만드는 함수\n",
    "def DH(a, alpha, d, theta):\n",
    "    T_rot_x = sympy.Matrix([[1,0,0,0],\n",
    "                            [0,sympy.cos(alpha),-sympy.sin(alpha),0],\n",
    "                            [0,sympy.sin(alpha),sympy.cos(alpha),0],\n",
    "                            [0,0,0,1]]);\n",
    "    T_trans_x = sympy.Matrix([[1,0,0,a],\n",
    "                              [0,1,0,0],\n",
    "                              [0,0,1,0],\n",
    "                              [0,0,0,1]]);\n",
    "    T_trans_z = sympy.Matrix([[1,0,0,0],\n",
    "                              [0,1,0,0],\n",
    "                              [0,0,1,d],\n",
    "                              [0,0,0,1]]);\n",
    "    T_rot_z = sympy.Matrix([[sympy.cos(theta),-sympy.sin(theta),0,0],\n",
    "                            [sympy.sin(theta),sympy.cos(theta),0,0],\n",
    "                            [0,0,1,0],\n",
    "                            [0,0,0,1]]);\n",
    "    T = T_rot_x*T_trans_x*T_trans_z*T_rot_z;\n",
    "    return T\n",
    "\n",
    "# 동차변환에서 회전행렬만 뽑아내는 함수\n",
    "def get_R_from_T(T):\n",
    "    R = T[0:3,0:3];\n",
    "    return R\n",
    "\n",
    "# 속도전파식을 이용하여 관절의 각속도를 구하는 함수\n",
    "def get_angular_vel_R(T_i_ip1,w_i,thd_ip1):\n",
    "    R_i_ip1 = get_R_from_T(T_i_ip1);\n",
    "    R_ip1_i = sympy.transpose(R_i_ip1);\n",
    "    Z_ip1_ip1 = sympy.Matrix([[0],[0],[1]]);\n",
    "    w_ip1_ip1 = R_ip1_i@w_i + thd_ip1*Z_ip1_ip1;\n",
    "    return w_ip1_ip1    \n",
    "\n",
    "# 속도전파식을 이용하여 관절의 선속도를 구하는 함수\n",
    "def get_linear_vel_R(T_i_ip1,w_i,v_i):\n",
    "    R_i_ip1 = get_R_from_T(T_i_ip1);\n",
    "    R_ip1_i = sympy.transpose(R_i_ip1);\n",
    "    r_i_ip1 = T_i_ip1[0:3,3:4];\n",
    "    v_ip1_ip1 = R_ip1_i@(v_i + w_i.cross(r_i_ip1));\n",
    "    return v_ip1_ip1\n",
    "\n",
    "# 선속도와 각속도를 입력으로 받아 자코비안을 구하는 함수\n",
    "def get_Jacobian(v_0_n,w_0_n,q):\n",
    "    J = sympy.zeros(6,len(q));\n",
    "    i = 0;\n",
    "    for q_i in q:\n",
    "        j_i = [];\n",
    "        j_i.append(sympy.simplify(sympy.diff(v_0_n,q_i)));\n",
    "        j_i.append(sympy.simplify(sympy.diff(w_0_n,q_i)));\n",
    "        J[:,i] = sympy.Matrix(j_i);\n",
    "        i+=1;\n",
    "    return J\n",
    "\n",
    "\n",
    "#변환행렬\n",
    "def rotX(alpha,a,b,c):\n",
    "    T = sympy.Matrix([[1,0,0,a],\n",
    "                      [0,sympy.cos(alpha),-sympy.sin(alpha),b],\n",
    "                      [0,sympy.sin(alpha),sympy.cos(alpha),c],\n",
    "                      [0,0,0,1]]);\n",
    "    return T\n",
    "\n",
    "def rotY(alpha,a,b,c):\n",
    "    T = sympy.Matrix([[sympy.cos(alpha),0,sympy.sin(alpha),a],\n",
    "                      [0,1,0,b],\n",
    "                      [-sympy.sin(alpha),0,sympy.cos(alpha),c],\n",
    "                      [0,0,0,1]]);\n",
    "    return T\n",
    "\n",
    "def rotZ(alpha,a,b,c):\n",
    "    T = sympy.Matrix([[sympy.cos(alpha),-sympy.sin(alpha),0,a],\n",
    "                      [sympy.sin(alpha),sympy.cos(alpha),0,b],\n",
    "                      [0,0,1,c],\n",
    "                      [0,0,0,1]]);\n",
    "    return T\n",
    "\n",
    "\n",
    "#Trans\n",
    "def trans(a,b,c):\n",
    "    T = sympy.Matrix([[1,0,0,a],\n",
    "                      [0,1,0,b],\n",
    "                      [0,0,1,c],\n",
    "                      [0,0,0,1]]);\n",
    "    return T"
   ]
  },
  {
   "cell_type": "markdown",
   "id": "5ce95f4d",
   "metadata": {},
   "source": [
    "# HW2"
   ]
  },
  {
   "cell_type": "markdown",
   "id": "cb68a33b",
   "metadata": {},
   "source": [
    "좌표계 {A}가 z축으로 30도 회전,  \n",
    "이때 얻어진 좌표계의 y축 으로 90도 회전,  \n",
    "변환행렬은?"
   ]
  },
  {
   "cell_type": "code",
   "execution_count": 265,
   "id": "027d1072",
   "metadata": {},
   "outputs": [],
   "source": [
    "a = rotZ(sympy.rad(30),0,0,0)\n",
    "b = rotY(sympy.rad(90),0,0,0)"
   ]
  },
  {
   "cell_type": "code",
   "execution_count": 266,
   "id": "12cb3e9c",
   "metadata": {},
   "outputs": [
    {
     "data": {
      "text/latex": [
       "$\\displaystyle \\left[\\begin{matrix}0 & - \\frac{1}{2} & \\frac{\\sqrt{3}}{2} & 0\\\\0 & \\frac{\\sqrt{3}}{2} & \\frac{1}{2} & 0\\\\-1 & 0 & 0 & 0\\\\0 & 0 & 0 & 1\\end{matrix}\\right]$"
      ],
      "text/plain": [
       "⎡          √3    ⎤\n",
       "⎢0   -1/2  ──   0⎥\n",
       "⎢          2     ⎥\n",
       "⎢                ⎥\n",
       "⎢     √3         ⎥\n",
       "⎢0    ──   1/2  0⎥\n",
       "⎢     2          ⎥\n",
       "⎢                ⎥\n",
       "⎢-1   0     0   0⎥\n",
       "⎢                ⎥\n",
       "⎣0    0     0   1⎦"
      ]
     },
     "execution_count": 266,
     "metadata": {},
     "output_type": "execute_result"
    }
   ],
   "source": [
    "a * b"
   ]
  },
  {
   "cell_type": "markdown",
   "id": "2c8f2357",
   "metadata": {},
   "source": [
    "위 케이스가 모두 고정좌표계의 주축에 대해 발생한경우는?  \n",
    "절대변환"
   ]
  },
  {
   "cell_type": "code",
   "execution_count": 267,
   "id": "f4b26b13",
   "metadata": {},
   "outputs": [
    {
     "data": {
      "text/latex": [
       "$\\displaystyle \\left[\\begin{matrix}0 & 0 & 1 & 0\\\\\\frac{1}{2} & \\frac{\\sqrt{3}}{2} & 0 & 0\\\\- \\frac{\\sqrt{3}}{2} & \\frac{1}{2} & 0 & 0\\\\0 & 0 & 0 & 1\\end{matrix}\\right]$"
      ],
      "text/plain": [
       "⎡ 0     0   1  0⎤\n",
       "⎢               ⎥\n",
       "⎢      √3       ⎥\n",
       "⎢1/2   ──   0  0⎥\n",
       "⎢      2        ⎥\n",
       "⎢               ⎥\n",
       "⎢-√3            ⎥\n",
       "⎢────  1/2  0  0⎥\n",
       "⎢ 2             ⎥\n",
       "⎢               ⎥\n",
       "⎣ 0     0   0  1⎦"
      ]
     },
     "execution_count": 267,
     "metadata": {},
     "output_type": "execute_result"
    }
   ],
   "source": [
    "b * a"
   ]
  },
  {
   "cell_type": "markdown",
   "id": "b55e1b45",
   "metadata": {},
   "source": [
    "## 2-5\n",
    "1. 오일러각을 구해라"
   ]
  },
  {
   "cell_type": "code",
   "execution_count": 268,
   "id": "d1406bec",
   "metadata": {},
   "outputs": [],
   "source": [
    "a = trans(3,0,2)\n",
    "b = rotY(sympy.rad(90),0,0,0)\n",
    "c = rotX(sympy.rad(30),0,0,0)"
   ]
  },
  {
   "cell_type": "code",
   "execution_count": 269,
   "id": "17390577",
   "metadata": {},
   "outputs": [
    {
     "data": {
      "text/latex": [
       "$\\displaystyle \\left[\\begin{matrix}0 & \\frac{1}{2} & \\frac{\\sqrt{3}}{2} & 3\\\\0 & \\frac{\\sqrt{3}}{2} & - \\frac{1}{2} & 0\\\\-1 & 0 & 0 & 2\\\\0 & 0 & 0 & 1\\end{matrix}\\right]$"
      ],
      "text/plain": [
       "⎡          √3    ⎤\n",
       "⎢0   1/2   ──   3⎥\n",
       "⎢          2     ⎥\n",
       "⎢                ⎥\n",
       "⎢    √3          ⎥\n",
       "⎢0   ──   -1/2  0⎥\n",
       "⎢    2           ⎥\n",
       "⎢                ⎥\n",
       "⎢-1   0    0    2⎥\n",
       "⎢                ⎥\n",
       "⎣0    0    0    1⎦"
      ]
     },
     "execution_count": 269,
     "metadata": {},
     "output_type": "execute_result"
    }
   ],
   "source": [
    "a * b * c"
   ]
  },
  {
   "cell_type": "markdown",
   "id": "384a523b",
   "metadata": {},
   "source": [
    "X의 경우 Z축 방향으로 -1 방향  \n",
    "방향 코사인은 [0,0,-1]  \n",
    "동차행렬과 일치"
   ]
  },
  {
   "cell_type": "code",
   "execution_count": 270,
   "id": "11d5ed39",
   "metadata": {},
   "outputs": [
    {
     "data": {
      "text/latex": [
       "$\\displaystyle \\left[\\begin{matrix}- \\frac{1}{2}\\\\\\frac{\\sqrt{3}}{2}\\\\0\\end{matrix}\\right]$"
      ],
      "text/plain": [
       "⎡-1/2⎤\n",
       "⎢    ⎥\n",
       "⎢ √3 ⎥\n",
       "⎢ ── ⎥\n",
       "⎢ 2  ⎥\n",
       "⎢    ⎥\n",
       "⎣ 0  ⎦"
      ]
     },
     "execution_count": 270,
     "metadata": {},
     "output_type": "execute_result"
    }
   ],
   "source": [
    "#Y의 경우 x는 -sin30, y는 cos30\n",
    "th = sympy.rad(30)\n",
    "sympy.Matrix([[sympy.sin(-th)],[sympy.cos(th)],[0]])"
   ]
  },
  {
   "cell_type": "markdown",
   "id": "2fdf542e",
   "metadata": {},
   "source": [
    "# HW3"
   ]
  },
  {
   "cell_type": "markdown",
   "id": "26305f8f",
   "metadata": {},
   "source": [
    "RRR 형 동차변환행렬"
   ]
  },
  {
   "cell_type": "code",
   "execution_count": 271,
   "id": "fdf389c0",
   "metadata": {},
   "outputs": [],
   "source": [
    "l1,l2,l3,th1,th2,th3 = sympy.symbols('l1,l2,l3,th1,th2,th3')"
   ]
  },
  {
   "cell_type": "code",
   "execution_count": 272,
   "id": "37cc86e5",
   "metadata": {},
   "outputs": [],
   "source": [
    "T01 = DH(l1,0,0,th1)\n",
    "T12 = DH(l2,sympy.rad(90),0,th2)\n",
    "T23 = DH(l3,0,0,th3)\n",
    "T34 = DH(0,0,0,0)"
   ]
  },
  {
   "cell_type": "code",
   "execution_count": 273,
   "id": "3c8c3f0c",
   "metadata": {},
   "outputs": [],
   "source": [
    "T04 = T01 * T12 * T23 * T34"
   ]
  },
  {
   "cell_type": "code",
   "execution_count": 274,
   "id": "1500d330",
   "metadata": {},
   "outputs": [
    {
     "data": {
      "text/latex": [
       "$\\displaystyle \\left[\\begin{matrix}\\cos{\\left(th_{1} \\right)} \\cos{\\left(th_{2} + th_{3} \\right)} & - \\sin{\\left(th_{2} + th_{3} \\right)} \\cos{\\left(th_{1} \\right)} & \\sin{\\left(th_{1} \\right)} & l_{1} + l_{2} \\cos{\\left(th_{1} \\right)} + l_{3} \\cos{\\left(th_{1} \\right)} \\cos{\\left(th_{2} \\right)}\\\\\\sin{\\left(th_{1} \\right)} \\cos{\\left(th_{2} + th_{3} \\right)} & - \\sin{\\left(th_{1} \\right)} \\sin{\\left(th_{2} + th_{3} \\right)} & - \\cos{\\left(th_{1} \\right)} & \\left(l_{2} + l_{3} \\cos{\\left(th_{2} \\right)}\\right) \\sin{\\left(th_{1} \\right)}\\\\\\sin{\\left(th_{2} + th_{3} \\right)} & \\cos{\\left(th_{2} + th_{3} \\right)} & 0 & l_{3} \\sin{\\left(th_{2} \\right)}\\\\0 & 0 & 0 & 1\\end{matrix}\\right]$"
      ],
      "text/plain": [
       "⎡cos(th₁)⋅cos(th₂ + th₃)  -sin(th₂ + th₃)⋅cos(th₁)  sin(th₁)   l₁ + l₂⋅cos(th₁\n",
       "⎢                                                                             \n",
       "⎢sin(th₁)⋅cos(th₂ + th₃)  -sin(th₁)⋅sin(th₂ + th₃)  -cos(th₁)        (l₂ + l₃⋅\n",
       "⎢                                                                             \n",
       "⎢    sin(th₂ + th₃)            cos(th₂ + th₃)           0                    l\n",
       "⎢                                                                             \n",
       "⎣           0                        0                  0                     \n",
       "\n",
       ") + l₃⋅cos(th₁)⋅cos(th₂)⎤\n",
       "                        ⎥\n",
       "cos(th₂))⋅sin(th₁)      ⎥\n",
       "                        ⎥\n",
       "₃⋅sin(th₂)              ⎥\n",
       "                        ⎥\n",
       "    1                   ⎦"
      ]
     },
     "execution_count": 274,
     "metadata": {},
     "output_type": "execute_result"
    }
   ],
   "source": [
    "sympy.simplify(T04)"
   ]
  },
  {
   "cell_type": "markdown",
   "id": "91a71246",
   "metadata": {},
   "source": [
    "## 2\n",
    "RP형 동차변환행렬"
   ]
  },
  {
   "cell_type": "code",
   "execution_count": 275,
   "id": "1a8e9d1c",
   "metadata": {},
   "outputs": [],
   "source": [
    "l2,th,d = sympy.symbols('l2,th,d')\n",
    "T01 = DH(0,0,0,sympy.rad(90)+th)\n",
    "T12 = DH(0,sympy.rad(90),d,0)\n",
    "T23 = DH(l2,0,0,0)\n",
    "\n",
    "T03 = T01 * T12 * T23"
   ]
  },
  {
   "cell_type": "code",
   "execution_count": 276,
   "id": "844273ec",
   "metadata": {},
   "outputs": [
    {
     "data": {
      "text/latex": [
       "$\\displaystyle \\left[\\begin{matrix}- \\sin{\\left(th \\right)} & 0 & \\cos{\\left(th \\right)} & d \\cos{\\left(th \\right)} - l_{2} \\sin{\\left(th \\right)}\\\\\\cos{\\left(th \\right)} & 0 & \\sin{\\left(th \\right)} & d \\sin{\\left(th \\right)} + l_{2} \\cos{\\left(th \\right)}\\\\0 & 1 & 0 & 0\\\\0 & 0 & 0 & 1\\end{matrix}\\right]$"
      ],
      "text/plain": [
       "⎡-sin(th)  0  cos(th)  d⋅cos(th) - l₂⋅sin(th)⎤\n",
       "⎢                                            ⎥\n",
       "⎢cos(th)   0  sin(th)  d⋅sin(th) + l₂⋅cos(th)⎥\n",
       "⎢                                            ⎥\n",
       "⎢   0      1     0               0           ⎥\n",
       "⎢                                            ⎥\n",
       "⎣   0      0     0               1           ⎦"
      ]
     },
     "execution_count": 276,
     "metadata": {},
     "output_type": "execute_result"
    }
   ],
   "source": [
    "T03"
   ]
  },
  {
   "cell_type": "markdown",
   "id": "13ce549b",
   "metadata": {},
   "source": [
    "## 3\n",
    "RR형 동차변환행렬"
   ]
  },
  {
   "cell_type": "code",
   "execution_count": 277,
   "id": "3d7c2130",
   "metadata": {},
   "outputs": [],
   "source": [
    "l2,l1, th1, th2 = sympy.symbols('l2,l1, th1, th2')"
   ]
  },
  {
   "cell_type": "code",
   "execution_count": 278,
   "id": "69231c03",
   "metadata": {},
   "outputs": [],
   "source": [
    "T01 = DH(0,0,l1,th1)\n",
    "T12 = DH(0,-sympy.rad(90),0,th2)\n",
    "T23 = DH(l2,sympy.rad(90),0,0)\n",
    "T03 = T01 * T12 * T23"
   ]
  },
  {
   "cell_type": "code",
   "execution_count": 279,
   "id": "55644f20",
   "metadata": {},
   "outputs": [
    {
     "data": {
      "text/latex": [
       "$\\displaystyle \\left[\\begin{matrix}\\cos{\\left(th_{1} \\right)} \\cos{\\left(th_{2} \\right)} & - \\sin{\\left(th_{1} \\right)} & \\sin{\\left(th_{2} \\right)} \\cos{\\left(th_{1} \\right)} & l_{2} \\cos{\\left(th_{1} \\right)} \\cos{\\left(th_{2} \\right)}\\\\\\sin{\\left(th_{1} \\right)} \\cos{\\left(th_{2} \\right)} & \\cos{\\left(th_{1} \\right)} & \\sin{\\left(th_{1} \\right)} \\sin{\\left(th_{2} \\right)} & l_{2} \\sin{\\left(th_{1} \\right)} \\cos{\\left(th_{2} \\right)}\\\\- \\sin{\\left(th_{2} \\right)} & 0 & \\cos{\\left(th_{2} \\right)} & l_{1} - l_{2} \\sin{\\left(th_{2} \\right)}\\\\0 & 0 & 0 & 1\\end{matrix}\\right]$"
      ],
      "text/plain": [
       "⎡cos(th₁)⋅cos(th₂)  -sin(th₁)  sin(th₂)⋅cos(th₁)  l₂⋅cos(th₁)⋅cos(th₂)⎤\n",
       "⎢                                                                     ⎥\n",
       "⎢sin(th₁)⋅cos(th₂)  cos(th₁)   sin(th₁)⋅sin(th₂)  l₂⋅sin(th₁)⋅cos(th₂)⎥\n",
       "⎢                                                                     ⎥\n",
       "⎢    -sin(th₂)          0          cos(th₂)         l₁ - l₂⋅sin(th₂)  ⎥\n",
       "⎢                                                                     ⎥\n",
       "⎣        0              0              0                   1          ⎦"
      ]
     },
     "execution_count": 279,
     "metadata": {},
     "output_type": "execute_result"
    }
   ],
   "source": [
    "T03"
   ]
  },
  {
   "cell_type": "markdown",
   "id": "3fe12520",
   "metadata": {},
   "source": [
    "# 1\n",
    "## 1 {A} 기준으로 Bp를 보면?"
   ]
  },
  {
   "cell_type": "code",
   "execution_count": 373,
   "id": "31b7279e",
   "metadata": {},
   "outputs": [],
   "source": [
    "Rab = trans(3,5,9) * rotZ(sympy.rad(30),0,0,0)\n",
    "bP = sympy.Matrix([[1],[3],[5],[1]])"
   ]
  },
  {
   "cell_type": "code",
   "execution_count": 374,
   "id": "dedd1b25",
   "metadata": {},
   "outputs": [
    {
     "data": {
      "text/latex": [
       "$\\displaystyle \\left[\\begin{matrix}\\frac{\\sqrt{3}}{2} + \\frac{3}{2}\\\\\\frac{3 \\sqrt{3}}{2} + \\frac{11}{2}\\\\14\\\\1\\end{matrix}\\right]$"
      ],
      "text/plain": [
       "⎡ √3   3  ⎤\n",
       "⎢ ── + ─  ⎥\n",
       "⎢ 2    2  ⎥\n",
       "⎢         ⎥\n",
       "⎢3⋅√3   11⎥\n",
       "⎢──── + ──⎥\n",
       "⎢ 2     2 ⎥\n",
       "⎢         ⎥\n",
       "⎢   14    ⎥\n",
       "⎢         ⎥\n",
       "⎣    1    ⎦"
      ]
     },
     "execution_count": 374,
     "metadata": {},
     "output_type": "execute_result"
    }
   ],
   "source": [
    "Rab * bP"
   ]
  },
  {
   "cell_type": "markdown",
   "id": "c8ec78bc",
   "metadata": {},
   "source": [
    "## 2 역행렬을 구하시오"
   ]
  },
  {
   "cell_type": "code",
   "execution_count": 375,
   "id": "cfaf917e",
   "metadata": {},
   "outputs": [],
   "source": [
    "a = sympy.Matrix([[0.9077, 0.0506, 0.4166, 1],[0.2432, 0.7456, -0.6204, -2],[-0.3420, 0.6645, 0.6645, 3],[0,0,0,1]])"
   ]
  },
  {
   "cell_type": "code",
   "execution_count": 376,
   "id": "441cadae",
   "metadata": {},
   "outputs": [
    {
     "data": {
      "text/latex": [
       "$\\displaystyle \\left[\\begin{matrix}0.9077 & 0.2432 & -0.342 & 0\\\\0.0506 & 0.7456 & 0.6645 & 0\\\\0.4166 & -0.6204 & 0.6645 & 0\\\\1 & -2 & 3 & 1\\end{matrix}\\right]$"
      ],
      "text/plain": [
       "⎡0.9077  0.2432   -0.342  0⎤\n",
       "⎢                          ⎥\n",
       "⎢0.0506  0.7456   0.6645  0⎥\n",
       "⎢                          ⎥\n",
       "⎢0.4166  -0.6204  0.6645  0⎥\n",
       "⎢                          ⎥\n",
       "⎣  1       -2       3     1⎦"
      ]
     },
     "execution_count": 376,
     "metadata": {},
     "output_type": "execute_result"
    }
   ],
   "source": [
    "a.T"
   ]
  },
  {
   "cell_type": "markdown",
   "id": "c4126fc7",
   "metadata": {},
   "source": [
    "# Example chapter.2"
   ]
  },
  {
   "cell_type": "code",
   "execution_count": 377,
   "id": "734d7f35",
   "metadata": {},
   "outputs": [
    {
     "data": {
      "text/latex": [
       "$\\displaystyle \\left[\\begin{matrix}-1\\\\\\sqrt{3}\\\\0\\\\1\\end{matrix}\\right]$"
      ],
      "text/plain": [
       "⎡-1⎤\n",
       "⎢  ⎥\n",
       "⎢√3⎥\n",
       "⎢  ⎥\n",
       "⎢0 ⎥\n",
       "⎢  ⎥\n",
       "⎣1 ⎦"
      ]
     },
     "execution_count": 377,
     "metadata": {},
     "output_type": "execute_result"
    }
   ],
   "source": [
    "# 2.1 rot(z,30) bP = [0,2,0] what is aP\n",
    "rotZ(sympy.rad(30),0,0,0) * sympy.Matrix([[0],[2],[0],[1]])"
   ]
  },
  {
   "cell_type": "code",
   "execution_count": 378,
   "id": "63a813e7",
   "metadata": {},
   "outputs": [],
   "source": [
    "#2.2 역행렬 구하세용\n",
    "\n",
    "a = rotZ(sympy.rad(45), -7.07, 2.83, 0)"
   ]
  },
  {
   "cell_type": "code",
   "execution_count": 379,
   "id": "e6878bc3",
   "metadata": {},
   "outputs": [
    {
     "data": {
      "text/latex": [
       "$\\displaystyle \\left[\\begin{matrix}\\frac{\\sqrt{2}}{2} & \\frac{\\sqrt{2}}{2} & 0 & 0\\\\- \\frac{\\sqrt{2}}{2} & \\frac{\\sqrt{2}}{2} & 0 & 0\\\\0 & 0 & 1 & 0\\\\-7.07 & 2.83 & 0 & 1\\end{matrix}\\right]$"
      ],
      "text/plain": [
       "⎡ √2     √2       ⎤\n",
       "⎢ ──     ──   0  0⎥\n",
       "⎢ 2      2        ⎥\n",
       "⎢                 ⎥\n",
       "⎢-√2     √2       ⎥\n",
       "⎢────    ──   0  0⎥\n",
       "⎢ 2      2        ⎥\n",
       "⎢                 ⎥\n",
       "⎢  0     0    1  0⎥\n",
       "⎢                 ⎥\n",
       "⎣-7.07  2.83  0  1⎦"
      ]
     },
     "execution_count": 379,
     "metadata": {},
     "output_type": "execute_result"
    }
   ],
   "source": [
    "a.T"
   ]
  },
  {
   "cell_type": "code",
   "execution_count": 380,
   "id": "4e96a6e3",
   "metadata": {},
   "outputs": [],
   "source": [
    "# 2.4 rot(z, 45) and trans(7,3,0) is {B}. when Bp is [5,3,0] what is Ap?\n",
    "Rab = rotZ(sympy.rad(45),7,3,0)\n",
    "Bp = sympy.Matrix([[5],[3],[0],[1]])"
   ]
  },
  {
   "cell_type": "code",
   "execution_count": 381,
   "id": "7acf7ead",
   "metadata": {},
   "outputs": [
    {
     "data": {
      "text/latex": [
       "$\\displaystyle \\left[\\begin{matrix}\\sqrt{2} + 7\\\\3 + 4 \\sqrt{2}\\\\0\\\\1\\end{matrix}\\right]$"
      ],
      "text/plain": [
       "⎡ √2 + 7 ⎤\n",
       "⎢        ⎥\n",
       "⎢3 + 4⋅√2⎥\n",
       "⎢        ⎥\n",
       "⎢   0    ⎥\n",
       "⎢        ⎥\n",
       "⎣   1    ⎦"
      ]
     },
     "execution_count": 381,
     "metadata": {},
     "output_type": "execute_result"
    }
   ],
   "source": [
    "Rab * Bp"
   ]
  },
  {
   "cell_type": "code",
   "execution_count": 382,
   "id": "f2b28c28",
   "metadata": {},
   "outputs": [
    {
     "data": {
      "text/latex": [
       "$\\displaystyle \\left[\\begin{matrix}\\frac{\\sqrt{2}}{2} & \\frac{\\sqrt{2}}{2} & 0 & 0\\\\- \\frac{\\sqrt{2}}{2} & \\frac{\\sqrt{2}}{2} & 0 & 0\\\\0 & 0 & 1 & 0\\\\7 & 3 & 0 & 1\\end{matrix}\\right]$"
      ],
      "text/plain": [
       "⎡ √2   √2      ⎤\n",
       "⎢ ──   ──  0  0⎥\n",
       "⎢ 2    2       ⎥\n",
       "⎢              ⎥\n",
       "⎢-√2   √2      ⎥\n",
       "⎢────  ──  0  0⎥\n",
       "⎢ 2    2       ⎥\n",
       "⎢              ⎥\n",
       "⎢ 0    0   1  0⎥\n",
       "⎢              ⎥\n",
       "⎣ 7    3   0  1⎦"
      ]
     },
     "execution_count": 382,
     "metadata": {},
     "output_type": "execute_result"
    }
   ],
   "source": [
    "# 2.5 2.4의 동차행렬의 역변환\n",
    "Rab.T"
   ]
  },
  {
   "cell_type": "code",
   "execution_count": 383,
   "id": "fd89e70e",
   "metadata": {},
   "outputs": [
    {
     "data": {
      "text/latex": [
       "$\\displaystyle \\left[\\begin{matrix}1 & 0 & 0 & - \\frac{1}{2} + \\frac{\\sqrt{3}}{2}\\\\0 & 1 & 0 & \\frac{\\sqrt{3}}{2} + \\frac{3}{2}\\\\0 & 0 & 1 & 0\\\\0 & 0 & 0 & 1\\end{matrix}\\right]$"
      ],
      "text/plain": [
       "⎡           1   √3⎤\n",
       "⎢1  0  0  - ─ + ──⎥\n",
       "⎢           2   2 ⎥\n",
       "⎢                 ⎥\n",
       "⎢          √3   3 ⎥\n",
       "⎢0  1  0   ── + ─ ⎥\n",
       "⎢          2    2 ⎥\n",
       "⎢                 ⎥\n",
       "⎢0  0  1     0    ⎥\n",
       "⎢                 ⎥\n",
       "⎣0  0  0     1    ⎦"
      ]
     },
     "execution_count": 383,
     "metadata": {},
     "output_type": "execute_result"
    }
   ],
   "source": [
    "#2.6  Find 절대변환과 상대변환\n",
    "# 상대변환\n",
    "trans(0,1,0) * rotZ(sympy.rad(30),0,0,0) * trans(1,1,0) * rotZ(sympy.rad(-30),0,0,0)"
   ]
  },
  {
   "cell_type": "code",
   "execution_count": 384,
   "id": "74957e89",
   "metadata": {},
   "outputs": [
    {
     "data": {
      "text/latex": [
       "$\\displaystyle \\left[\\begin{matrix}1 & 0 & 0 & \\frac{1}{2} + \\frac{\\sqrt{3}}{2}\\\\0 & 1 & 0 & \\frac{1}{2} + \\frac{\\sqrt{3}}{2}\\\\0 & 0 & 1 & 0\\\\0 & 0 & 0 & 1\\end{matrix}\\right]$"
      ],
      "text/plain": [
       "⎡         1   √3⎤\n",
       "⎢1  0  0  ─ + ──⎥\n",
       "⎢         2   2 ⎥\n",
       "⎢               ⎥\n",
       "⎢         1   √3⎥\n",
       "⎢0  1  0  ─ + ──⎥\n",
       "⎢         2   2 ⎥\n",
       "⎢               ⎥\n",
       "⎢0  0  1    0   ⎥\n",
       "⎢               ⎥\n",
       "⎣0  0  0    1   ⎦"
      ]
     },
     "execution_count": 384,
     "metadata": {},
     "output_type": "execute_result"
    }
   ],
   "source": [
    "#절대변환\n",
    "rotZ(sympy.rad(-30),0,0,0) * trans(1,1,0)* rotZ(sympy.rad(30),0,0,0) * trans(0,1,0)"
   ]
  },
  {
   "cell_type": "code",
   "execution_count": 385,
   "id": "1088db2c",
   "metadata": {},
   "outputs": [
    {
     "data": {
      "text/latex": [
       "$\\displaystyle \\left[\\begin{matrix}0 & 0 & -1 & -3\\\\-1 & 0 & 0 & 0\\\\0 & 1 & 0 & 0\\\\0 & 0 & 0 & 1\\end{matrix}\\right]$"
      ],
      "text/plain": [
       "⎡0   0  -1  -3⎤\n",
       "⎢             ⎥\n",
       "⎢-1  0  0   0 ⎥\n",
       "⎢             ⎥\n",
       "⎢0   1  0   0 ⎥\n",
       "⎢             ⎥\n",
       "⎣0   0  0   1 ⎦"
      ]
     },
     "execution_count": 385,
     "metadata": {},
     "output_type": "execute_result"
    }
   ],
   "source": [
    "# 2.7\n",
    "# rot(x, 90) tran(-3,0,0) rot(y, -90)\n",
    "rotX(sympy.rad(90), 0 ,0 ,0)*trans(-3,0,0)*rotY(sympy.rad(-90), 0 ,0 ,0)"
   ]
  },
  {
   "cell_type": "code",
   "execution_count": 386,
   "id": "8ca0fb6d",
   "metadata": {},
   "outputs": [
    {
     "data": {
      "text/latex": [
       "$\\displaystyle \\left[\\begin{matrix}0 & -1 & 0 & 3\\\\0 & 0 & -1 & 0\\\\1 & 0 & 0 & 0\\\\0 & 0 & 0 & 1\\end{matrix}\\right]$"
      ],
      "text/plain": [
       "⎡0  -1  0   3⎤\n",
       "⎢            ⎥\n",
       "⎢0  0   -1  0⎥\n",
       "⎢            ⎥\n",
       "⎢1  0   0   0⎥\n",
       "⎢            ⎥\n",
       "⎣0  0   0   1⎦"
      ]
     },
     "execution_count": 386,
     "metadata": {},
     "output_type": "execute_result"
    }
   ],
   "source": [
    "# 2.8\n",
    "# rot(y, -90) trans(0,0,-3) rot(x,90)\n",
    "rotY(sympy.rad(-90),0,0,0) * trans(0,0,-3) * rotX(sympy.rad(90),0,0,0)"
   ]
  },
  {
   "cell_type": "code",
   "execution_count": 294,
   "id": "fa91d1a9",
   "metadata": {},
   "outputs": [],
   "source": [
    "# Example 3\n",
    "a3,a4,d1,d2,d5,d6,th1,th2,th3,th4,th5,th6 = sympy.symbols('a3,a4,d1,d2,d5,d6,th1,th2,th3,th4,th5,th6')\n",
    "T01 = DH(0,0,d1,th1)\n",
    "T12 = DH(0,sympy.rad(-90),d2,sympy.rad(-90) + th2)\n",
    "T23 = DH(a3,0,0,th3)\n",
    "T34 = DH(a4,0,0,sympy.rad(-90) + th4)\n",
    "T45 = DH(0,sympy.rad(90),d5,th5)\n",
    "T56 = DH(0,sympy.rad(-90),d6,th6)"
   ]
  },
  {
   "cell_type": "code",
   "execution_count": 295,
   "id": "4e57f7a9",
   "metadata": {},
   "outputs": [
    {
     "data": {
      "text/latex": [
       "$\\displaystyle \\left[\\begin{matrix}- \\left(\\sin{\\left(th_{1} \\right)} \\sin{\\left(th_{5} \\right)} + \\cos{\\left(th_{1} \\right)} \\cos{\\left(th_{5} \\right)} \\cos{\\left(th_{2} + th_{3} + th_{4} \\right)}\\right) \\cos{\\left(th_{6} \\right)} + \\sin{\\left(th_{6} \\right)} \\sin{\\left(th_{2} + th_{3} + th_{4} \\right)} \\cos{\\left(th_{1} \\right)} & \\left(\\sin{\\left(th_{1} \\right)} \\sin{\\left(th_{5} \\right)} + \\cos{\\left(th_{1} \\right)} \\cos{\\left(th_{5} \\right)} \\cos{\\left(th_{2} + th_{3} + th_{4} \\right)}\\right) \\sin{\\left(th_{6} \\right)} + \\sin{\\left(th_{2} + th_{3} + th_{4} \\right)} \\cos{\\left(th_{1} \\right)} \\cos{\\left(th_{6} \\right)} & - \\sin{\\left(th_{1} \\right)} \\cos{\\left(th_{5} \\right)} + \\sin{\\left(th_{5} \\right)} \\cos{\\left(th_{1} \\right)} \\cos{\\left(th_{2} + th_{3} + th_{4} \\right)} & a_{3} \\sin{\\left(th_{2} \\right)} \\cos{\\left(th_{1} \\right)} + a_{4} \\sin{\\left(th_{2} + th_{3} \\right)} \\cos{\\left(th_{1} \\right)} - d_{2} \\sin{\\left(th_{1} \\right)} - d_{5} \\sin{\\left(th_{2} + th_{3} + th_{4} \\right)} \\cos{\\left(th_{1} \\right)} + d_{6} \\left(- \\sin{\\left(th_{1} \\right)} \\cos{\\left(th_{5} \\right)} + \\sin{\\left(th_{5} \\right)} \\cos{\\left(th_{1} \\right)} \\cos{\\left(th_{2} + th_{3} + th_{4} \\right)}\\right)\\\\\\left(- \\sin{\\left(th_{1} \\right)} \\cos{\\left(th_{5} \\right)} \\cos{\\left(th_{2} + th_{3} + th_{4} \\right)} + \\sin{\\left(th_{5} \\right)} \\cos{\\left(th_{1} \\right)}\\right) \\cos{\\left(th_{6} \\right)} + \\sin{\\left(th_{1} \\right)} \\sin{\\left(th_{6} \\right)} \\sin{\\left(th_{2} + th_{3} + th_{4} \\right)} & \\left(\\sin{\\left(th_{1} \\right)} \\cos{\\left(th_{5} \\right)} \\cos{\\left(th_{2} + th_{3} + th_{4} \\right)} - \\sin{\\left(th_{5} \\right)} \\cos{\\left(th_{1} \\right)}\\right) \\sin{\\left(th_{6} \\right)} + \\sin{\\left(th_{1} \\right)} \\sin{\\left(th_{2} + th_{3} + th_{4} \\right)} \\cos{\\left(th_{6} \\right)} & \\sin{\\left(th_{1} \\right)} \\sin{\\left(th_{5} \\right)} \\cos{\\left(th_{2} + th_{3} + th_{4} \\right)} + \\cos{\\left(th_{1} \\right)} \\cos{\\left(th_{5} \\right)} & a_{3} \\sin{\\left(th_{1} \\right)} \\sin{\\left(th_{2} \\right)} + a_{4} \\sin{\\left(th_{1} \\right)} \\sin{\\left(th_{2} + th_{3} \\right)} + d_{2} \\cos{\\left(th_{1} \\right)} - d_{5} \\sin{\\left(th_{1} \\right)} \\sin{\\left(th_{2} + th_{3} + th_{4} \\right)} + d_{6} \\left(\\sin{\\left(th_{1} \\right)} \\sin{\\left(th_{5} \\right)} \\cos{\\left(th_{2} + th_{3} + th_{4} \\right)} + \\cos{\\left(th_{1} \\right)} \\cos{\\left(th_{5} \\right)}\\right)\\\\\\sin{\\left(th_{6} \\right)} \\cos{\\left(th_{2} + th_{3} + th_{4} \\right)} + \\sin{\\left(th_{2} + th_{3} + th_{4} \\right)} \\cos{\\left(th_{5} \\right)} \\cos{\\left(th_{6} \\right)} & - \\sin{\\left(th_{6} \\right)} \\sin{\\left(th_{2} + th_{3} + th_{4} \\right)} \\cos{\\left(th_{5} \\right)} + \\cos{\\left(th_{6} \\right)} \\cos{\\left(th_{2} + th_{3} + th_{4} \\right)} & - \\sin{\\left(th_{5} \\right)} \\sin{\\left(th_{2} + th_{3} + th_{4} \\right)} & a_{3} \\cos{\\left(th_{2} \\right)} + a_{4} \\cos{\\left(th_{2} + th_{3} \\right)} + d_{1} - d_{5} \\cos{\\left(th_{2} + th_{3} + th_{4} \\right)} - d_{6} \\sin{\\left(th_{5} \\right)} \\sin{\\left(th_{2} + th_{3} + th_{4} \\right)}\\\\0 & 0 & 0 & 1\\end{matrix}\\right]$"
      ],
      "text/plain": [
       "⎡-(sin(th₁)⋅sin(th₅) + cos(th₁)⋅cos(th₅)⋅cos(th₂ + th₃ + th₄))⋅cos(th₆) + sin(\n",
       "⎢                                                                             \n",
       "⎢(-sin(th₁)⋅cos(th₅)⋅cos(th₂ + th₃ + th₄) + sin(th₅)⋅cos(th₁))⋅cos(th₆) + sin(\n",
       "⎢                                                                             \n",
       "⎢                    sin(th₆)⋅cos(th₂ + th₃ + th₄) + sin(th₂ + th₃ + th₄)⋅cos(\n",
       "⎢                                                                             \n",
       "⎣                                                       0                     \n",
       "\n",
       "th₆)⋅sin(th₂ + th₃ + th₄)⋅cos(th₁)  (sin(th₁)⋅sin(th₅) + cos(th₁)⋅cos(th₅)⋅cos\n",
       "                                                                              \n",
       "th₁)⋅sin(th₆)⋅sin(th₂ + th₃ + th₄)  (sin(th₁)⋅cos(th₅)⋅cos(th₂ + th₃ + th₄) - \n",
       "                                                                              \n",
       "th₅)⋅cos(th₆)                                          -sin(th₆)⋅sin(th₂ + th₃\n",
       "                                                                              \n",
       "                                                                              \n",
       "\n",
       "(th₂ + th₃ + th₄))⋅sin(th₆) + sin(th₂ + th₃ + th₄)⋅cos(th₁)⋅cos(th₆)  -sin(th₁\n",
       "                                                                              \n",
       "sin(th₅)⋅cos(th₁))⋅sin(th₆) + sin(th₁)⋅sin(th₂ + th₃ + th₄)⋅cos(th₆)  sin(th₁)\n",
       "                                                                              \n",
       " + th₄)⋅cos(th₅) + cos(th₆)⋅cos(th₂ + th₃ + th₄)                              \n",
       "                                                                              \n",
       "            0                                                                 \n",
       "\n",
       ")⋅cos(th₅) + sin(th₅)⋅cos(th₁)⋅cos(th₂ + th₃ + th₄)  a₃⋅sin(th₂)⋅cos(th₁) + a₄\n",
       "                                                                              \n",
       "⋅sin(th₅)⋅cos(th₂ + th₃ + th₄) + cos(th₁)⋅cos(th₅)   a₃⋅sin(th₁)⋅sin(th₂) + a₄\n",
       "                                                                              \n",
       "      -sin(th₅)⋅sin(th₂ + th₃ + th₄)                                          \n",
       "                                                                              \n",
       "                     0                                                        \n",
       "\n",
       "⋅sin(th₂ + th₃)⋅cos(th₁) - d₂⋅sin(th₁) - d₅⋅sin(th₂ + th₃ + th₄)⋅cos(th₁) + d₆\n",
       "                                                                              \n",
       "⋅sin(th₁)⋅sin(th₂ + th₃) + d₂⋅cos(th₁) - d₅⋅sin(th₁)⋅sin(th₂ + th₃ + th₄) + d₆\n",
       "                                                                              \n",
       "         a₃⋅cos(th₂) + a₄⋅cos(th₂ + th₃) + d₁ - d₅⋅cos(th₂ + th₃ + th₄) - d₆⋅s\n",
       "                                                                              \n",
       "                                                         1                    \n",
       "\n",
       "⋅(-sin(th₁)⋅cos(th₅) + sin(th₅)⋅cos(th₁)⋅cos(th₂ + th₃ + th₄))⎤\n",
       "                                                              ⎥\n",
       "⋅(sin(th₁)⋅sin(th₅)⋅cos(th₂ + th₃ + th₄) + cos(th₁)⋅cos(th₅)) ⎥\n",
       "                                                              ⎥\n",
       "in(th₅)⋅sin(th₂ + th₃ + th₄)                                  ⎥\n",
       "                                                              ⎥\n",
       "                                                              ⎦"
      ]
     },
     "execution_count": 295,
     "metadata": {},
     "output_type": "execute_result"
    }
   ],
   "source": [
    "sympy.simplify(T01 * T12 * T23 * T34 * T45 * T56)2 "
   ]
  },
  {
   "cell_type": "code",
   "execution_count": 296,
   "id": "e952ff87",
   "metadata": {},
   "outputs": [],
   "source": [
    "# Example 3\n",
    "l1,l2,th1,th2,th3 = sympy.symbols('l1,l2,th1,th2,th3')\n",
    "T01 = DH(0,0,0,th1)\n",
    "T12 = DH(l1,0,0,th2)\n",
    "T23 = DH(l2,0,0,th3)\n",
    "Result = T01 * T12 * T23"
   ]
  },
  {
   "cell_type": "code",
   "execution_count": 297,
   "id": "fb03ac6c",
   "metadata": {},
   "outputs": [
    {
     "data": {
      "text/latex": [
       "$\\displaystyle \\left[\\begin{matrix}\\cos{\\left(th_{1} + th_{2} + th_{3} \\right)} & - \\sin{\\left(th_{1} + th_{2} + th_{3} \\right)} & 0 & l_{1} \\cos{\\left(th_{1} \\right)} + l_{2} \\cos{\\left(th_{1} + th_{2} \\right)}\\\\\\sin{\\left(th_{1} + th_{2} + th_{3} \\right)} & \\cos{\\left(th_{1} + th_{2} + th_{3} \\right)} & 0 & l_{1} \\sin{\\left(th_{1} \\right)} + l_{2} \\sin{\\left(th_{1} + th_{2} \\right)}\\\\0 & 0 & 1 & 0\\\\0 & 0 & 0 & 1\\end{matrix}\\right]$"
      ],
      "text/plain": [
       "⎡cos(th₁ + th₂ + th₃)  -sin(th₁ + th₂ + th₃)  0  l₁⋅cos(th₁) + l₂⋅cos(th₁ + th\n",
       "⎢                                                                             \n",
       "⎢sin(th₁ + th₂ + th₃)  cos(th₁ + th₂ + th₃)   0  l₁⋅sin(th₁) + l₂⋅sin(th₁ + th\n",
       "⎢                                                                             \n",
       "⎢         0                      0            1                 0             \n",
       "⎢                                                                             \n",
       "⎣         0                      0            0                 1             \n",
       "\n",
       "₂)⎤\n",
       "  ⎥\n",
       "₂)⎥\n",
       "  ⎥\n",
       "  ⎥\n",
       "  ⎥\n",
       "  ⎦"
      ]
     },
     "execution_count": 297,
     "metadata": {},
     "output_type": "execute_result"
    }
   ],
   "source": [
    "sympy.simplify(Result)"
   ]
  },
  {
   "cell_type": "code",
   "execution_count": 302,
   "id": "6dcdec6c",
   "metadata": {},
   "outputs": [],
   "source": [
    "a = 1\n",
    "b = 2\n",
    "c = sympy.atan2(a,b)"
   ]
  },
  {
   "cell_type": "code",
   "execution_count": 309,
   "id": "491d6854",
   "metadata": {},
   "outputs": [
    {
     "data": {
      "image/png": "[encoded data removed]",
      "text/latex": [
       "$\\displaystyle \\frac{180 \\operatorname{atan}{\\left(\\frac{1}{2} \\right)}}{\\pi}$"
      ],
      "text/plain": [
       "180⋅atan(1/2)\n",
       "─────────────\n",
       "      π      "
      ]
     },
     "execution_count": 309,
     "metadata": {},
     "output_type": "execute_result"
    }
   ],
   "source": [
    "sympy.deg(c)"
   ]
  },
  {
   "cell_type": "code",
   "execution_count": 348,
   "id": "7f1c3139",
   "metadata": {},
   "outputs": [],
   "source": [
    "# 3.4\n",
    "# euler Z-Y-Z , rot(z,th1) * rot(y, th2) * rot(z, th3)\n",
    "th1,th2,th3 = sympy.symbols('th1,th2,th3')\n",
    "result =rotZ(th1, 0,0,0) * rotY(th2, 0,0,0) * rotZ(th3, 0,0,0)"
   ]
  },
  {
   "cell_type": "code",
   "execution_count": 349,
   "id": "0ee52f36",
   "metadata": {},
   "outputs": [
    {
     "data": {
      "text/latex": [
       "$\\displaystyle \\left[\\begin{matrix}- \\sin{\\left(th_{1} \\right)} \\sin{\\left(th_{3} \\right)} + \\cos{\\left(th_{1} \\right)} \\cos{\\left(th_{2} \\right)} \\cos{\\left(th_{3} \\right)} & - \\sin{\\left(th_{1} \\right)} \\cos{\\left(th_{3} \\right)} - \\sin{\\left(th_{3} \\right)} \\cos{\\left(th_{1} \\right)} \\cos{\\left(th_{2} \\right)} & \\sin{\\left(th_{2} \\right)} \\cos{\\left(th_{1} \\right)} & 0\\\\\\sin{\\left(th_{1} \\right)} \\cos{\\left(th_{2} \\right)} \\cos{\\left(th_{3} \\right)} + \\sin{\\left(th_{3} \\right)} \\cos{\\left(th_{1} \\right)} & - \\sin{\\left(th_{1} \\right)} \\sin{\\left(th_{3} \\right)} \\cos{\\left(th_{2} \\right)} + \\cos{\\left(th_{1} \\right)} \\cos{\\left(th_{3} \\right)} & \\sin{\\left(th_{1} \\right)} \\sin{\\left(th_{2} \\right)} & 0\\\\- \\sin{\\left(th_{2} \\right)} \\cos{\\left(th_{3} \\right)} & \\sin{\\left(th_{2} \\right)} \\sin{\\left(th_{3} \\right)} & \\cos{\\left(th_{2} \\right)} & 0\\\\0 & 0 & 0 & 1\\end{matrix}\\right]$"
      ],
      "text/plain": [
       "⎡-sin(th₁)⋅sin(th₃) + cos(th₁)⋅cos(th₂)⋅cos(th₃)  -sin(th₁)⋅cos(th₃) - sin(th₃\n",
       "⎢                                                                             \n",
       "⎢sin(th₁)⋅cos(th₂)⋅cos(th₃) + sin(th₃)⋅cos(th₁)   -sin(th₁)⋅sin(th₃)⋅cos(th₂) \n",
       "⎢                                                                             \n",
       "⎢              -sin(th₂)⋅cos(th₃)                                sin(th₂)⋅sin(\n",
       "⎢                                                                             \n",
       "⎣                       0                                                0    \n",
       "\n",
       ")⋅cos(th₁)⋅cos(th₂)  sin(th₂)⋅cos(th₁)  0⎤\n",
       "                                         ⎥\n",
       "+ cos(th₁)⋅cos(th₃)  sin(th₁)⋅sin(th₂)  0⎥\n",
       "                                         ⎥\n",
       "th₃)                     cos(th₂)       0⎥\n",
       "                                         ⎥\n",
       "                             0          1⎦"
      ]
     },
     "execution_count": 349,
     "metadata": {},
     "output_type": "execute_result"
    }
   ],
   "source": [
    "sympy.simplify(result)"
   ]
  },
  {
   "cell_type": "code",
   "execution_count": 350,
   "id": "0382fc0e",
   "metadata": {},
   "outputs": [],
   "source": [
    "x = sympy.sin(th2) * sympy.cos(th1)\n",
    "y = sympy.sin(th1) * sympy.sin(th2)\n",
    "z = sympy.cos(th2)"
   ]
  },
  {
   "cell_type": "code",
   "execution_count": 351,
   "id": "78eeceed",
   "metadata": {},
   "outputs": [
    {
     "data": {
      "image/png": "[encoded data removed]",
      "text/latex": [
       "$\\displaystyle \\sin{\\left(th_{2} \\right)} \\cos{\\left(th_{1} \\right)}$"
      ],
      "text/plain": [
       "sin(th₂)⋅cos(th₁)"
      ]
     },
     "execution_count": 351,
     "metadata": {},
     "output_type": "execute_result"
    }
   ],
   "source": [
    "x"
   ]
  },
  {
   "cell_type": "code",
   "execution_count": 352,
   "id": "ec4db130",
   "metadata": {},
   "outputs": [
    {
     "data": {
      "image/png": "[encoded data removed]",
      "text/latex": [
       "$\\displaystyle \\sin{\\left(th_{1} \\right)} \\sin{\\left(th_{2} \\right)}$"
      ],
      "text/plain": [
       "sin(th₁)⋅sin(th₂)"
      ]
     },
     "execution_count": 352,
     "metadata": {},
     "output_type": "execute_result"
    }
   ],
   "source": [
    "y"
   ]
  },
  {
   "cell_type": "code",
   "execution_count": 353,
   "id": "91308959",
   "metadata": {},
   "outputs": [
    {
     "data": {
      "image/png": "[encoded data removed]",
      "text/latex": [
       "$\\displaystyle \\cos{\\left(th_{2} \\right)}$"
      ],
      "text/plain": [
       "cos(th₂)"
      ]
     },
     "execution_count": 353,
     "metadata": {},
     "output_type": "execute_result"
    }
   ],
   "source": [
    "z"
   ]
  },
  {
   "cell_type": "code",
   "execution_count": 354,
   "id": "e1390015",
   "metadata": {},
   "outputs": [
    {
     "data": {
      "image/png": "[encoded data removed]",
      "text/latex": [
       "$\\displaystyle \\frac{\\sin{\\left(th_{1} \\right)}}{\\cos{\\left(th_{1} \\right)}}$"
      ],
      "text/plain": [
       "sin(th₁)\n",
       "────────\n",
       "cos(th₁)"
      ]
     },
     "execution_count": 354,
     "metadata": {},
     "output_type": "execute_result"
    }
   ],
   "source": [
    "y/x # th1 = atan2(y/x)"
   ]
  },
  {
   "cell_type": "code",
   "execution_count": 355,
   "id": "99d232ec",
   "metadata": {},
   "outputs": [
    {
     "data": {
      "image/png": "[encoded data removed]",
      "text/latex": [
       "$\\displaystyle \\frac{\\sin{\\left(th_{2} \\right)}}{\\cos{\\left(th_{2} \\right)}}$"
      ],
      "text/plain": [
       "sin(th₂)\n",
       "────────\n",
       "cos(th₂)"
      ]
     },
     "execution_count": 355,
     "metadata": {},
     "output_type": "execute_result"
    }
   ],
   "source": [
    "(y/z)/sympy.sin(th1)"
   ]
  },
  {
   "cell_type": "code",
   "execution_count": 360,
   "id": "21c28312",
   "metadata": {},
   "outputs": [],
   "source": [
    "# Find Jacobian w00 = v00 = 0\n",
    "th1,th2,l1,l2 = sympy.symbols('th1,th2,l1,l2')\n",
    "th1d,th2d = sympy.symbols('th1d,th2d')\n",
    "T01 = DH(0, 0, 0, th1)\n",
    "T12 = DH(l1, 0, 0, th2)\n",
    "T23 = DH(l2, 0, 0, 0)\n",
    "T03 = T01 * T12 * T23"
   ]
  },
  {
   "cell_type": "code",
   "execution_count": 361,
   "id": "9eeadf5e",
   "metadata": {},
   "outputs": [],
   "source": [
    "w00 = sympy.Matrix([[0],[0],[0]])\n",
    "v00 = sympy.Matrix([[0],[0],[0]])"
   ]
  },
  {
   "cell_type": "code",
   "execution_count": 367,
   "id": "c7519009",
   "metadata": {},
   "outputs": [],
   "source": [
    "w11 = get_angular_vel_R(T01,w00,th1d)\n",
    "v11 = get_linear_vel_R(T01,w00,v00)\n",
    "\n",
    "w22 = get_angular_vel_R(T12,w11,th2d)\n",
    "v22 = get_linear_vel_R(T12,w11,v11)\n",
    "\n",
    "w33 = get_angular_vel_R(T23,w22,th2d)\n",
    "v33 = get_linear_vel_R(T23,w22,v22)\n",
    "\n",
    "q = sympy.Matrix([[th1d],[th2d]])"
   ]
  },
  {
   "cell_type": "code",
   "execution_count": 369,
   "id": "4dde147d",
   "metadata": {},
   "outputs": [],
   "source": [
    "w03 = get_R_from_T(T03) * w33\n",
    "v03 = get_R_from_T(T03) * v33"
   ]
  },
  {
   "cell_type": "code",
   "execution_count": 372,
   "id": "3edec165",
   "metadata": {},
   "outputs": [
    {
     "data": {
      "text/latex": [
       "$\\displaystyle \\left[\\begin{matrix}- l_{1} \\sin{\\left(th_{1} \\right)} - l_{2} \\sin{\\left(th_{1} + th_{2} \\right)} & - l_{2} \\sin{\\left(th_{1} + th_{2} \\right)}\\\\l_{1} \\cos{\\left(th_{1} \\right)} + l_{2} \\cos{\\left(th_{1} + th_{2} \\right)} & l_{2} \\cos{\\left(th_{1} + th_{2} \\right)}\\\\0 & 0\\\\0 & 0\\\\0 & 0\\\\1 & 2\\end{matrix}\\right]$"
      ],
      "text/plain": [
       "⎡-l₁⋅sin(th₁) - l₂⋅sin(th₁ + th₂)  -l₂⋅sin(th₁ + th₂)⎤\n",
       "⎢                                                    ⎥\n",
       "⎢l₁⋅cos(th₁) + l₂⋅cos(th₁ + th₂)   l₂⋅cos(th₁ + th₂) ⎥\n",
       "⎢                                                    ⎥\n",
       "⎢               0                          0         ⎥\n",
       "⎢                                                    ⎥\n",
       "⎢               0                          0         ⎥\n",
       "⎢                                                    ⎥\n",
       "⎢               0                          0         ⎥\n",
       "⎢                                                    ⎥\n",
       "⎣               1                          2         ⎦"
      ]
     },
     "execution_count": 372,
     "metadata": {},
     "output_type": "execute_result"
    }
   ],
   "source": [
    "get_Jacobian(v03,w03,q)"
   ]
  },
  {
   "cell_type": "code",
   "execution_count": null,
   "id": "616df80d",
   "metadata": {},
   "outputs": [],
   "source": []
  }
 ],
 "metadata": {
  "kernelspec": {
   "display_name": "Python 3",
   "language": "python",
   "name": "python3"
  },
  "language_info": {
   "codemirror_mode": {
    "name": "ipython",
    "version": 3
   },
   "file_extension": ".py",
   "mimetype": "text/x-python",
   "name": "python",
   "nbconvert_exporter": "python",
   "pygments_lexer": "ipython3",
   "version": "3.8.8"
  }
 },
 "nbformat": 4,
 "nbformat_minor": 5
}
