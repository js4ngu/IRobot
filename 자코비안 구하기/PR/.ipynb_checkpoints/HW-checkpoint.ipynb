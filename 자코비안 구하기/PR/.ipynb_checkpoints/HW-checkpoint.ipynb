{
 "cells": [
  {
   "cell_type": "code",
   "execution_count": 131,
   "id": "03c85951",
   "metadata": {},
   "outputs": [],
   "source": [
    "import sympy\n",
    "sympy.init_printing()"
   ]
  },
  {
   "cell_type": "code",
   "execution_count": 132,
   "id": "84fcf1d2",
   "metadata": {},
   "outputs": [],
   "source": [
    "# DH 파라미터를 이용해 Homogeneous Transformation Matrix 만드는 함수\n",
    "def DH(a, alpha, d, theta):\n",
    "    T_rot_x = sympy.Matrix([[1,0,0,0],\n",
    "                            [0,sympy.cos(alpha),-sympy.sin(alpha),0],\n",
    "                            [0,sympy.sin(alpha),sympy.cos(alpha),0],\n",
    "                            [0,0,0,1]]);\n",
    "    T_trans_x = sympy.Matrix([[1,0,0,a],\n",
    "                              [0,1,0,0],\n",
    "                              [0,0,1,0],\n",
    "                              [0,0,0,1]]);\n",
    "    T_trans_z = sympy.Matrix([[1,0,0,0],\n",
    "                              [0,1,0,0],\n",
    "                              [0,0,1,d],\n",
    "                              [0,0,0,1]]);\n",
    "    T_rot_z = sympy.Matrix([[sympy.cos(theta),-sympy.sin(theta),0,0],\n",
    "                            [sympy.sin(theta),sympy.cos(theta),0,0],\n",
    "                            [0,0,1,0],\n",
    "                            [0,0,0,1]]);\n",
    "    T = T_rot_x*T_trans_x*T_trans_z*T_rot_z;\n",
    "    return T\n",
    "\n",
    "# 동차변환에서 회전행렬만 뽑아내는 함수\n",
    "def get_R_from_T(T):\n",
    "    R = T[0:3,0:3];\n",
    "    return R\n",
    "\n",
    "# 속도전파식을 이용하여 관절의 각속도를 구하는 함수\n",
    "def get_angular_vel_R(T_i_ip1,w_i,thd_ip1):\n",
    "    R_i_ip1 = get_R_from_T(T_i_ip1);\n",
    "    R_ip1_i = sympy.transpose(R_i_ip1);\n",
    "    Z_ip1_ip1 = sympy.Matrix([[0],[0],[1]]);\n",
    "    w_ip1_ip1 = R_ip1_i@w_i + thd_ip1*Z_ip1_ip1;\n",
    "    return w_ip1_ip1    \n",
    "\n",
    "# 속도전파식을 이용하여 관절의 선속도를 구하는 함수\n",
    "def get_linear_vel_R(T_i_ip1,w_i,v_i):\n",
    "    R_i_ip1 = get_R_from_T(T_i_ip1);\n",
    "    R_ip1_i = sympy.transpose(R_i_ip1);\n",
    "    r_i_ip1 = T_i_ip1[0:3,3:4];\n",
    "    v_ip1_ip1 = R_ip1_i@(v_i + w_i.cross(r_i_ip1));\n",
    "    return v_ip1_ip1\n",
    "\n",
    "# 선속도와 각속도를 입력으로 받아 자코비안을 구하는 함수\n",
    "def get_Jacobian(v_0_n,w_0_n,q):\n",
    "    J = sympy.zeros(6,len(q));\n",
    "    i = 0;\n",
    "    for q_i in q:\n",
    "        j_i = [];\n",
    "        j_i.append(sympy.simplify(sympy.diff(v_0_n,q_i)));\n",
    "        j_i.append(sympy.simplify(sympy.diff(w_0_n,q_i)));\n",
    "        J[:,i] = sympy.Matrix(j_i);\n",
    "        i+=1;\n",
    "    return J\n",
    "\n",
    "\n",
    "#변환행렬\n",
    "def rotX(alpha,a,b,c):\n",
    "    T = sympy.Matrix([[1,0,0,a],\n",
    "                      [0,sympy.cos(alpha),-sympy.sin(alpha),b],\n",
    "                      [0,sympy.sin(alpha),sympy.cos(alpha),c],\n",
    "                      [0,0,0,1]]);\n",
    "    return T\n",
    "\n",
    "def rotY(alpha,a,b,c):\n",
    "    T = sympy.Matrix([[sympy.cos(alpha),0,sympy.sin(alpha),a],\n",
    "                      [0,1,0,b],\n",
    "                      [-sympy.sin(alpha),0,sympy.cos(alpha),c],\n",
    "                      [0,0,0,1]]);\n",
    "    return T\n",
    "\n",
    "def rotZ(alpha,a,b,c):\n",
    "    T = sympy.Matrix([[sympy.cos(alpha),-sympy.sin(alpha),0,a],\n",
    "                      [sympy.sin(alpha),sympy.cos(alpha),0,b],\n",
    "                      [0,0,1,c],\n",
    "                      [0,0,0,1]]);\n",
    "    return T\n",
    "\n",
    "\n",
    "#Trans\n",
    "def trans(a,b,c):\n",
    "    T = sympy.Matrix([[1,0,0,a],\n",
    "                      [0,1,0,b],\n",
    "                      [0,0,1,c],\n",
    "                      [0,0,0,1]]);\n",
    "    return T"
   ]
  },
  {
   "cell_type": "markdown",
   "id": "5ce95f4d",
   "metadata": {},
   "source": [
    "# HW2"
   ]
  },
  {
   "cell_type": "markdown",
   "id": "cb68a33b",
   "metadata": {},
   "source": [
    "좌표계 {A}가 z축으로 30도 회전,  \n",
    "이때 얻어진 좌표계의 y축 으로 90도 회전,  \n",
    "변환행렬은?"
   ]
  },
  {
   "cell_type": "code",
   "execution_count": 133,
   "id": "027d1072",
   "metadata": {},
   "outputs": [],
   "source": [
    "a = rotZ(sympy.rad(30),0,0,0)\n",
    "b = rotY(sympy.rad(90),0,0,0)"
   ]
  },
  {
   "cell_type": "code",
   "execution_count": 134,
   "id": "12cb3e9c",
   "metadata": {},
   "outputs": [
    {
     "data": {
      "text/latex": [
       "$\\displaystyle \\left[\\begin{matrix}0 & - \\frac{1}{2} & \\frac{\\sqrt{3}}{2} & 0\\\\0 & \\frac{\\sqrt{3}}{2} & \\frac{1}{2} & 0\\\\-1 & 0 & 0 & 0\\\\0 & 0 & 0 & 1\\end{matrix}\\right]$"
      ],
      "text/plain": [
       "⎡          √3    ⎤\n",
       "⎢0   -1/2  ──   0⎥\n",
       "⎢          2     ⎥\n",
       "⎢                ⎥\n",
       "⎢     √3         ⎥\n",
       "⎢0    ──   1/2  0⎥\n",
       "⎢     2          ⎥\n",
       "⎢                ⎥\n",
       "⎢-1   0     0   0⎥\n",
       "⎢                ⎥\n",
       "⎣0    0     0   1⎦"
      ]
     },
     "execution_count": 134,
     "metadata": {},
     "output_type": "execute_result"
    }
   ],
   "source": [
    "a * b"
   ]
  },
  {
   "cell_type": "markdown",
   "id": "2c8f2357",
   "metadata": {},
   "source": [
    "위 케이스가 모두 고정좌표계의 주축에 대해 발생한경우는?  \n",
    "절대변환"
   ]
  },
  {
   "cell_type": "code",
   "execution_count": 135,
   "id": "f4b26b13",
   "metadata": {},
   "outputs": [
    {
     "data": {
      "text/latex": [
       "$\\displaystyle \\left[\\begin{matrix}0 & 0 & 1 & 0\\\\\\frac{1}{2} & \\frac{\\sqrt{3}}{2} & 0 & 0\\\\- \\frac{\\sqrt{3}}{2} & \\frac{1}{2} & 0 & 0\\\\0 & 0 & 0 & 1\\end{matrix}\\right]$"
      ],
      "text/plain": [
       "⎡ 0     0   1  0⎤\n",
       "⎢               ⎥\n",
       "⎢      √3       ⎥\n",
       "⎢1/2   ──   0  0⎥\n",
       "⎢      2        ⎥\n",
       "⎢               ⎥\n",
       "⎢-√3            ⎥\n",
       "⎢────  1/2  0  0⎥\n",
       "⎢ 2             ⎥\n",
       "⎢               ⎥\n",
       "⎣ 0     0   0  1⎦"
      ]
     },
     "execution_count": 135,
     "metadata": {},
     "output_type": "execute_result"
    }
   ],
   "source": [
    "b * a"
   ]
  },
  {
   "cell_type": "markdown",
   "id": "b55e1b45",
   "metadata": {},
   "source": [
    "## 2-5\n",
    "1. 오일러각을 구해라"
   ]
  },
  {
   "cell_type": "code",
   "execution_count": 136,
   "id": "d1406bec",
   "metadata": {},
   "outputs": [],
   "source": [
    "a = trans(3,0,2)\n",
    "b = rotY(sympy.rad(90),0,0,0)\n",
    "c = rotX(sympy.rad(30),0,0,0)"
   ]
  },
  {
   "cell_type": "code",
   "execution_count": 137,
   "id": "17390577",
   "metadata": {},
   "outputs": [
    {
     "data": {
      "text/latex": [
       "$\\displaystyle \\left[\\begin{matrix}0 & \\frac{1}{2} & \\frac{\\sqrt{3}}{2} & 3\\\\0 & \\frac{\\sqrt{3}}{2} & - \\frac{1}{2} & 0\\\\-1 & 0 & 0 & 2\\\\0 & 0 & 0 & 1\\end{matrix}\\right]$"
      ],
      "text/plain": [
       "⎡          √3    ⎤\n",
       "⎢0   1/2   ──   3⎥\n",
       "⎢          2     ⎥\n",
       "⎢                ⎥\n",
       "⎢    √3          ⎥\n",
       "⎢0   ──   -1/2  0⎥\n",
       "⎢    2           ⎥\n",
       "⎢                ⎥\n",
       "⎢-1   0    0    2⎥\n",
       "⎢                ⎥\n",
       "⎣0    0    0    1⎦"
      ]
     },
     "execution_count": 137,
     "metadata": {},
     "output_type": "execute_result"
    }
   ],
   "source": [
    "a * b * c"
   ]
  },
  {
   "cell_type": "markdown",
   "id": "384a523b",
   "metadata": {},
   "source": [
    "X의 경우 Z축 방향으로 -1 방향  \n",
    "방향 코사인은 [0,0,-1]  \n",
    "동차행렬과 일치"
   ]
  },
  {
   "cell_type": "code",
   "execution_count": 138,
   "id": "11d5ed39",
   "metadata": {},
   "outputs": [
    {
     "data": {
      "text/latex": [
       "$\\displaystyle \\left[\\begin{matrix}- \\frac{1}{2}\\\\\\frac{\\sqrt{3}}{2}\\\\0\\end{matrix}\\right]$"
      ],
      "text/plain": [
       "⎡-1/2⎤\n",
       "⎢    ⎥\n",
       "⎢ √3 ⎥\n",
       "⎢ ── ⎥\n",
       "⎢ 2  ⎥\n",
       "⎢    ⎥\n",
       "⎣ 0  ⎦"
      ]
     },
     "execution_count": 138,
     "metadata": {},
     "output_type": "execute_result"
    }
   ],
   "source": [
    "#Y의 경우 x는 -sin30, y는 cos30\n",
    "th = sympy.rad(30)\n",
    "sympy.Matrix([[sympy.sin(-th)],[sympy.cos(th)],[0]])"
   ]
  },
  {
   "cell_type": "markdown",
   "id": "2fdf542e",
   "metadata": {},
   "source": [
    "# HW3"
   ]
  },
  {
   "cell_type": "markdown",
   "id": "26305f8f",
   "metadata": {},
   "source": [
    "RRR 형 동차변환행렬"
   ]
  },
  {
   "cell_type": "code",
   "execution_count": 139,
   "id": "fdf389c0",
   "metadata": {},
   "outputs": [],
   "source": [
    "l1,l2,l3,th1,th2,th3 = sympy.symbols('l1,l2,l3,th1,th2,th3')"
   ]
  },
  {
   "cell_type": "code",
   "execution_count": 140,
   "id": "37cc86e5",
   "metadata": {},
   "outputs": [],
   "source": [
    "T01 = DH(l1,0,0,th1)\n",
    "T12 = DH(l2,sympy.rad(90),0,th2)\n",
    "T23 = DH(l3,0,0,th3)\n",
    "T34 = DH(0,0,0,0)"
   ]
  },
  {
   "cell_type": "code",
   "execution_count": 141,
   "id": "3c8c3f0c",
   "metadata": {},
   "outputs": [],
   "source": [
    "T04 = T01 * T12 * T23 * T34"
   ]
  },
  {
   "cell_type": "code",
   "execution_count": 142,
   "id": "1500d330",
   "metadata": {},
   "outputs": [
    {
     "data": {
      "text/latex": [
       "$\\displaystyle \\left[\\begin{matrix}\\cos{\\left(th_{1} \\right)} \\cos{\\left(th_{2} + th_{3} \\right)} & - \\sin{\\left(th_{2} + th_{3} \\right)} \\cos{\\left(th_{1} \\right)} & \\sin{\\left(th_{1} \\right)} & l_{1} + l_{2} \\cos{\\left(th_{1} \\right)} + l_{3} \\cos{\\left(th_{1} \\right)} \\cos{\\left(th_{2} \\right)}\\\\\\sin{\\left(th_{1} \\right)} \\cos{\\left(th_{2} + th_{3} \\right)} & - \\sin{\\left(th_{1} \\right)} \\sin{\\left(th_{2} + th_{3} \\right)} & - \\cos{\\left(th_{1} \\right)} & \\left(l_{2} + l_{3} \\cos{\\left(th_{2} \\right)}\\right) \\sin{\\left(th_{1} \\right)}\\\\\\sin{\\left(th_{2} + th_{3} \\right)} & \\cos{\\left(th_{2} + th_{3} \\right)} & 0 & l_{3} \\sin{\\left(th_{2} \\right)}\\\\0 & 0 & 0 & 1\\end{matrix}\\right]$"
      ],
      "text/plain": [
       "⎡cos(th₁)⋅cos(th₂ + th₃)  -sin(th₂ + th₃)⋅cos(th₁)  sin(th₁)   l₁ + l₂⋅cos(th₁\n",
       "⎢                                                                             \n",
       "⎢sin(th₁)⋅cos(th₂ + th₃)  -sin(th₁)⋅sin(th₂ + th₃)  -cos(th₁)        (l₂ + l₃⋅\n",
       "⎢                                                                             \n",
       "⎢    sin(th₂ + th₃)            cos(th₂ + th₃)           0                    l\n",
       "⎢                                                                             \n",
       "⎣           0                        0                  0                     \n",
       "\n",
       ") + l₃⋅cos(th₁)⋅cos(th₂)⎤\n",
       "                        ⎥\n",
       "cos(th₂))⋅sin(th₁)      ⎥\n",
       "                        ⎥\n",
       "₃⋅sin(th₂)              ⎥\n",
       "                        ⎥\n",
       "    1                   ⎦"
      ]
     },
     "execution_count": 142,
     "metadata": {},
     "output_type": "execute_result"
    }
   ],
   "source": [
    "sympy.simplify(T04)"
   ]
  },
  {
   "cell_type": "markdown",
   "id": "91a71246",
   "metadata": {},
   "source": [
    "## 2\n",
    "RP형 동차변환행렬"
   ]
  },
  {
   "cell_type": "code",
   "execution_count": 143,
   "id": "1a8e9d1c",
   "metadata": {},
   "outputs": [],
   "source": [
    "l2,th,d = sympy.symbols('l2,th,d')\n",
    "T01 = DH(0,0,0,sympy.rad(90)+th)\n",
    "T12 = DH(0,sympy.rad(90),d,0)\n",
    "T23 = DH(l2,0,0,0)\n",
    "\n",
    "T03 = T01 * T12 * T23"
   ]
  },
  {
   "cell_type": "code",
   "execution_count": 144,
   "id": "844273ec",
   "metadata": {},
   "outputs": [
    {
     "data": {
      "text/latex": [
       "$\\displaystyle \\left[\\begin{matrix}- \\sin{\\left(th \\right)} & 0 & \\cos{\\left(th \\right)} & d \\cos{\\left(th \\right)} - l_{2} \\sin{\\left(th \\right)}\\\\\\cos{\\left(th \\right)} & 0 & \\sin{\\left(th \\right)} & d \\sin{\\left(th \\right)} + l_{2} \\cos{\\left(th \\right)}\\\\0 & 1 & 0 & 0\\\\0 & 0 & 0 & 1\\end{matrix}\\right]$"
      ],
      "text/plain": [
       "⎡-sin(th)  0  cos(th)  d⋅cos(th) - l₂⋅sin(th)⎤\n",
       "⎢                                            ⎥\n",
       "⎢cos(th)   0  sin(th)  d⋅sin(th) + l₂⋅cos(th)⎥\n",
       "⎢                                            ⎥\n",
       "⎢   0      1     0               0           ⎥\n",
       "⎢                                            ⎥\n",
       "⎣   0      0     0               1           ⎦"
      ]
     },
     "execution_count": 144,
     "metadata": {},
     "output_type": "execute_result"
    }
   ],
   "source": [
    "T03"
   ]
  },
  {
   "cell_type": "markdown",
   "id": "13ce549b",
   "metadata": {},
   "source": [
    "## 3\n",
    "RR형 동차변환행렬"
   ]
  },
  {
   "cell_type": "code",
   "execution_count": 145,
   "id": "3d7c2130",
   "metadata": {},
   "outputs": [],
   "source": [
    "l2,l1, th1, th2 = sympy.symbols('l2,l1, th1, th2')"
   ]
  },
  {
   "cell_type": "code",
   "execution_count": 146,
   "id": "69231c03",
   "metadata": {},
   "outputs": [],
   "source": [
    "T01 = DH(0,0,l1,th1)\n",
    "T12 = DH(0,-sympy.rad(90),0,th2)\n",
    "T23 = DH(l2,sympy.rad(90),0,0)\n",
    "T03 = T01 * T12 * T23"
   ]
  },
  {
   "cell_type": "code",
   "execution_count": 147,
   "id": "55644f20",
   "metadata": {},
   "outputs": [
    {
     "data": {
      "text/latex": [
       "$\\displaystyle \\left[\\begin{matrix}\\cos{\\left(th_{1} \\right)} \\cos{\\left(th_{2} \\right)} & - \\sin{\\left(th_{1} \\right)} & \\sin{\\left(th_{2} \\right)} \\cos{\\left(th_{1} \\right)} & l_{2} \\cos{\\left(th_{1} \\right)} \\cos{\\left(th_{2} \\right)}\\\\\\sin{\\left(th_{1} \\right)} \\cos{\\left(th_{2} \\right)} & \\cos{\\left(th_{1} \\right)} & \\sin{\\left(th_{1} \\right)} \\sin{\\left(th_{2} \\right)} & l_{2} \\sin{\\left(th_{1} \\right)} \\cos{\\left(th_{2} \\right)}\\\\- \\sin{\\left(th_{2} \\right)} & 0 & \\cos{\\left(th_{2} \\right)} & l_{1} - l_{2} \\sin{\\left(th_{2} \\right)}\\\\0 & 0 & 0 & 1\\end{matrix}\\right]$"
      ],
      "text/plain": [
       "⎡cos(th₁)⋅cos(th₂)  -sin(th₁)  sin(th₂)⋅cos(th₁)  l₂⋅cos(th₁)⋅cos(th₂)⎤\n",
       "⎢                                                                     ⎥\n",
       "⎢sin(th₁)⋅cos(th₂)  cos(th₁)   sin(th₁)⋅sin(th₂)  l₂⋅sin(th₁)⋅cos(th₂)⎥\n",
       "⎢                                                                     ⎥\n",
       "⎢    -sin(th₂)          0          cos(th₂)         l₁ - l₂⋅sin(th₂)  ⎥\n",
       "⎢                                                                     ⎥\n",
       "⎣        0              0              0                   1          ⎦"
      ]
     },
     "execution_count": 147,
     "metadata": {},
     "output_type": "execute_result"
    }
   ],
   "source": [
    "T03"
   ]
  },
  {
   "cell_type": "markdown",
   "id": "3fe12520",
   "metadata": {},
   "source": [
    "# 1\n",
    "## 1"
   ]
  },
  {
   "cell_type": "code",
   "execution_count": 148,
   "id": "31b7279e",
   "metadata": {},
   "outputs": [],
   "source": [
    "Rab = trans(3,5,9) * rotZ(sympy.rad(30),0,0,0)\n",
    "bP = sympy.Matrix([[1],[3],[5],[1]])"
   ]
  },
  {
   "cell_type": "code",
   "execution_count": 149,
   "id": "dedd1b25",
   "metadata": {},
   "outputs": [
    {
     "data": {
      "text/latex": [
       "$\\displaystyle \\left[\\begin{matrix}\\frac{\\sqrt{3}}{2} + \\frac{3}{2}\\\\\\frac{3 \\sqrt{3}}{2} + \\frac{11}{2}\\\\14\\\\1\\end{matrix}\\right]$"
      ],
      "text/plain": [
       "⎡ √3   3  ⎤\n",
       "⎢ ── + ─  ⎥\n",
       "⎢ 2    2  ⎥\n",
       "⎢         ⎥\n",
       "⎢3⋅√3   11⎥\n",
       "⎢──── + ──⎥\n",
       "⎢ 2     2 ⎥\n",
       "⎢         ⎥\n",
       "⎢   14    ⎥\n",
       "⎢         ⎥\n",
       "⎣    1    ⎦"
      ]
     },
     "execution_count": 149,
     "metadata": {},
     "output_type": "execute_result"
    }
   ],
   "source": [
    "Rab * bP"
   ]
  },
  {
   "cell_type": "markdown",
   "id": "c8ec78bc",
   "metadata": {},
   "source": [
    "## 2"
   ]
  },
  {
   "cell_type": "code",
   "execution_count": 150,
   "id": "cfaf917e",
   "metadata": {},
   "outputs": [],
   "source": [
    "a = sympy.Matrix([[0.9077, 0.0506, 0.4166, 1],[0.2432, 0.7456, -0.6204, -2],[-0.3420, 0.6645, 0.6645, 3],[0,0,0,1]])"
   ]
  },
  {
   "cell_type": "code",
   "execution_count": 151,
   "id": "441cadae",
   "metadata": {},
   "outputs": [
    {
     "data": {
      "text/latex": [
       "$\\displaystyle \\left[\\begin{matrix}0.9077 & 0.2432 & -0.342 & 0\\\\0.0506 & 0.7456 & 0.6645 & 0\\\\0.4166 & -0.6204 & 0.6645 & 0\\\\1 & -2 & 3 & 1\\end{matrix}\\right]$"
      ],
      "text/plain": [
       "⎡0.9077  0.2432   -0.342  0⎤\n",
       "⎢                          ⎥\n",
       "⎢0.0506  0.7456   0.6645  0⎥\n",
       "⎢                          ⎥\n",
       "⎢0.4166  -0.6204  0.6645  0⎥\n",
       "⎢                          ⎥\n",
       "⎣  1       -2       3     1⎦"
      ]
     },
     "execution_count": 151,
     "metadata": {},
     "output_type": "execute_result"
    }
   ],
   "source": [
    "a.T"
   ]
  },
  {
   "cell_type": "markdown",
   "id": "c4126fc7",
   "metadata": {},
   "source": [
    "# Example chapter.2"
   ]
  },
  {
   "cell_type": "code",
   "execution_count": 156,
   "id": "734d7f35",
   "metadata": {},
   "outputs": [
    {
     "data": {
      "text/latex": [
       "$\\displaystyle \\left[\\begin{matrix}-1\\\\\\sqrt{3}\\\\0\\\\1\\end{matrix}\\right]$"
      ],
      "text/plain": [
       "⎡-1⎤\n",
       "⎢  ⎥\n",
       "⎢√3⎥\n",
       "⎢  ⎥\n",
       "⎢0 ⎥\n",
       "⎢  ⎥\n",
       "⎣1 ⎦"
      ]
     },
     "execution_count": 156,
     "metadata": {},
     "output_type": "execute_result"
    }
   ],
   "source": [
    "# 2.1 rot(z,30) bP = [0,2,0] what is aP\n",
    "rotZ(sympy.rad(30),0,0,0) * sympy.Matrix([[0],[2],[0],[1]])"
   ]
  },
  {
   "cell_type": "code",
   "execution_count": 160,
   "id": "63a813e7",
   "metadata": {},
   "outputs": [],
   "source": [
    "#2.2\n",
    "\n",
    "a = rotZ(sympy.rad(45), -7.07, 2.83, 0)"
   ]
  },
  {
   "cell_type": "code",
   "execution_count": 159,
   "id": "e6878bc3",
   "metadata": {},
   "outputs": [
    {
     "data": {
      "text/latex": [
       "$\\displaystyle \\left[\\begin{matrix}\\frac{\\sqrt{2}}{2} & \\frac{\\sqrt{2}}{2} & 0 & 0\\\\- \\frac{\\sqrt{2}}{2} & \\frac{\\sqrt{2}}{2} & 0 & 0\\\\0 & 0 & 1 & 0\\\\-7.07 & 2.83 & 0 & 1\\end{matrix}\\right]$"
      ],
      "text/plain": [
       "⎡ √2     √2       ⎤\n",
       "⎢ ──     ──   0  0⎥\n",
       "⎢ 2      2        ⎥\n",
       "⎢                 ⎥\n",
       "⎢-√2     √2       ⎥\n",
       "⎢────    ──   0  0⎥\n",
       "⎢ 2      2        ⎥\n",
       "⎢                 ⎥\n",
       "⎢  0     0    1  0⎥\n",
       "⎢                 ⎥\n",
       "⎣-7.07  2.83  0  1⎦"
      ]
     },
     "execution_count": 159,
     "metadata": {},
     "output_type": "execute_result"
    }
   ],
   "source": [
    "a.T"
   ]
  },
  {
   "cell_type": "code",
   "execution_count": null,
   "id": "4e96a6e3",
   "metadata": {},
   "outputs": [],
   "source": []
  }
 ],
 "metadata": {
  "kernelspec": {
   "display_name": "Python 3",
   "language": "python",
   "name": "python3"
  },
  "language_info": {
   "codemirror_mode": {
    "name": "ipython",
    "version": 3
   },
   "file_extension": ".py",
   "mimetype": "text/x-python",
   "name": "python",
   "nbconvert_exporter": "python",
   "pygments_lexer": "ipython3",
   "version": "3.8.8"
  }
 },
 "nbformat": 4,
 "nbformat_minor": 5
}
