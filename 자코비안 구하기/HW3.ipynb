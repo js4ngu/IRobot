{
 "cells": [
  {
   "cell_type": "code",
   "execution_count": 58,
   "id": "03c85951",
   "metadata": {},
   "outputs": [],
   "source": [
    "import sympy\n",
    "sympy.init_printing()"
   ]
  },
  {
   "cell_type": "code",
   "execution_count": 59,
   "id": "84fcf1d2",
   "metadata": {},
   "outputs": [],
   "source": [
    "# DH 파라미터를 이용해 Homogeneous Transformation Matrix 만드는 함수\n",
    "def DH(a, alpha, d, theta):\n",
    "    T_rot_x = sympy.Matrix([[1,0,0,0],\n",
    "                            [0,sympy.cos(alpha),-sympy.sin(alpha),0],\n",
    "                            [0,sympy.sin(alpha),sympy.cos(alpha),0],\n",
    "                            [0,0,0,1]]);\n",
    "    T_trans_x = sympy.Matrix([[1,0,0,a],\n",
    "                              [0,1,0,0],\n",
    "                              [0,0,1,0],\n",
    "                              [0,0,0,1]]);\n",
    "    T_trans_z = sympy.Matrix([[1,0,0,0],\n",
    "                              [0,1,0,0],\n",
    "                              [0,0,1,d],\n",
    "                              [0,0,0,1]]);\n",
    "    T_rot_z = sympy.Matrix([[sympy.cos(theta),-sympy.sin(theta),0,0],\n",
    "                            [sympy.sin(theta),sympy.cos(theta),0,0],\n",
    "                            [0,0,1,0],\n",
    "                            [0,0,0,1]]);\n",
    "    T = T_rot_x*T_trans_x*T_trans_z*T_rot_z;\n",
    "    return T"
   ]
  },
  {
   "cell_type": "markdown",
   "id": "3436bd27",
   "metadata": {},
   "source": [
    "# RRR형"
   ]
  },
  {
   "cell_type": "code",
   "execution_count": 60,
   "id": "c25efd08",
   "metadata": {},
   "outputs": [],
   "source": [
    "th1,th2,th3,l1,l2,l3 = sympy.symbols('th1,th2,th3,l1,l2,l3')"
   ]
  },
  {
   "cell_type": "code",
   "execution_count": 61,
   "id": "5196e6f6",
   "metadata": {},
   "outputs": [],
   "source": [
    "T01 = DH(0,0,0,th1)\n",
    "T12 = DH(sympy.rad(90),0,0,th2)\n",
    "T23 = DH(0,0,0,th3)\n",
    "T34 = DH(0,0,0,0)"
   ]
  },
  {
   "cell_type": "code",
   "execution_count": 62,
   "id": "56379c87",
   "metadata": {},
   "outputs": [],
   "source": [
    "T04 = T01*T12*T23*T34"
   ]
  },
  {
   "cell_type": "code",
   "execution_count": 64,
   "id": "c5440a84",
   "metadata": {},
   "outputs": [
    {
     "data": {
      "text/latex": [
       "$\\displaystyle \\left[\\begin{matrix}\\cos{\\left(th_{1} + th_{2} + th_{3} \\right)} & - \\sin{\\left(th_{1} + th_{2} + th_{3} \\right)} & 0 & \\frac{\\pi \\cos{\\left(th_{1} \\right)}}{2}\\\\\\sin{\\left(th_{1} + th_{2} + th_{3} \\right)} & \\cos{\\left(th_{1} + th_{2} + th_{3} \\right)} & 0 & \\frac{\\pi \\sin{\\left(th_{1} \\right)}}{2}\\\\0 & 0 & 1 & 0\\\\0 & 0 & 0 & 1\\end{matrix}\\right]$"
      ],
      "text/plain": [
       "⎡                                                π⋅cos(th₁)⎤\n",
       "⎢cos(th₁ + th₂ + th₃)  -sin(th₁ + th₂ + th₃)  0  ──────────⎥\n",
       "⎢                                                    2     ⎥\n",
       "⎢                                                          ⎥\n",
       "⎢                                                π⋅sin(th₁)⎥\n",
       "⎢sin(th₁ + th₂ + th₃)  cos(th₁ + th₂ + th₃)   0  ──────────⎥\n",
       "⎢                                                    2     ⎥\n",
       "⎢                                                          ⎥\n",
       "⎢         0                      0            1      0     ⎥\n",
       "⎢                                                          ⎥\n",
       "⎣         0                      0            0      1     ⎦"
      ]
     },
     "execution_count": 64,
     "metadata": {},
     "output_type": "execute_result"
    }
   ],
   "source": [
    "sympy.simplify(T04)"
   ]
  },
  {
   "cell_type": "markdown",
   "id": "30f058e4",
   "metadata": {},
   "source": [
    "# RP형"
   ]
  },
  {
   "cell_type": "code",
   "execution_count": 65,
   "id": "87fa6bb7",
   "metadata": {},
   "outputs": [],
   "source": [
    "th1,l2,d = sympy.symbols('th1,l2,d')"
   ]
  },
  {
   "cell_type": "code",
   "execution_count": 66,
   "id": "6de9058d",
   "metadata": {},
   "outputs": [],
   "source": [
    "T01 = DH(0,0,0,sympy.rad(90)+th1)\n",
    "T12 = DH(0,sympy.rad(90),d,0)\n",
    "T23 = DH(l2,0,0,0)\n",
    "\n",
    "T03 = T01*T12*T23"
   ]
  },
  {
   "cell_type": "code",
   "execution_count": 67,
   "id": "3e647679",
   "metadata": {},
   "outputs": [
    {
     "data": {
      "text/latex": [
       "$\\displaystyle \\left[\\begin{matrix}- \\sin{\\left(th_{1} \\right)} & 0 & \\cos{\\left(th_{1} \\right)} & d \\cos{\\left(th_{1} \\right)} - l_{2} \\sin{\\left(th_{1} \\right)}\\\\\\cos{\\left(th_{1} \\right)} & 0 & \\sin{\\left(th_{1} \\right)} & d \\sin{\\left(th_{1} \\right)} + l_{2} \\cos{\\left(th_{1} \\right)}\\\\0 & 1 & 0 & 0\\\\0 & 0 & 0 & 1\\end{matrix}\\right]$"
      ],
      "text/plain": [
       "⎡-sin(th₁)  0  cos(th₁)  d⋅cos(th₁) - l₂⋅sin(th₁)⎤\n",
       "⎢                                                ⎥\n",
       "⎢cos(th₁)   0  sin(th₁)  d⋅sin(th₁) + l₂⋅cos(th₁)⎥\n",
       "⎢                                                ⎥\n",
       "⎢    0      1     0                 0            ⎥\n",
       "⎢                                                ⎥\n",
       "⎣    0      0     0                 1            ⎦"
      ]
     },
     "execution_count": 67,
     "metadata": {},
     "output_type": "execute_result"
    }
   ],
   "source": [
    "sympy.simplify(T03)"
   ]
  },
  {
   "cell_type": "markdown",
   "id": "d8cd6f88",
   "metadata": {},
   "source": [
    "# RR형"
   ]
  },
  {
   "cell_type": "code",
   "execution_count": 68,
   "id": "9272ccfd",
   "metadata": {},
   "outputs": [],
   "source": [
    "th1, th2, l1 ,l2 = sympy.symbols('th1,th2,l1,l2')"
   ]
  },
  {
   "cell_type": "code",
   "execution_count": 69,
   "id": "1a1b1839",
   "metadata": {},
   "outputs": [],
   "source": [
    "T01 = DH(0,0,l1,th1)\n",
    "T12 = DH(0,-sympy.rad(90),0,th2)\n",
    "T23 = DH(l2,sympy.rad(90),0,0)\n",
    "\n",
    "T03 = T01*T12*T23"
   ]
  },
  {
   "cell_type": "code",
   "execution_count": 70,
   "id": "5cb8f800",
   "metadata": {},
   "outputs": [
    {
     "data": {
      "text/latex": [
       "$\\displaystyle \\left[\\begin{matrix}\\cos{\\left(th_{1} \\right)} \\cos{\\left(th_{2} \\right)} & - \\sin{\\left(th_{1} \\right)} & \\sin{\\left(th_{2} \\right)} \\cos{\\left(th_{1} \\right)} & l_{2} \\cos{\\left(th_{1} \\right)} \\cos{\\left(th_{2} \\right)}\\\\\\sin{\\left(th_{1} \\right)} \\cos{\\left(th_{2} \\right)} & \\cos{\\left(th_{1} \\right)} & \\sin{\\left(th_{1} \\right)} \\sin{\\left(th_{2} \\right)} & l_{2} \\sin{\\left(th_{1} \\right)} \\cos{\\left(th_{2} \\right)}\\\\- \\sin{\\left(th_{2} \\right)} & 0 & \\cos{\\left(th_{2} \\right)} & l_{1} - l_{2} \\sin{\\left(th_{2} \\right)}\\\\0 & 0 & 0 & 1\\end{matrix}\\right]$"
      ],
      "text/plain": [
       "⎡cos(th₁)⋅cos(th₂)  -sin(th₁)  sin(th₂)⋅cos(th₁)  l₂⋅cos(th₁)⋅cos(th₂)⎤\n",
       "⎢                                                                     ⎥\n",
       "⎢sin(th₁)⋅cos(th₂)  cos(th₁)   sin(th₁)⋅sin(th₂)  l₂⋅sin(th₁)⋅cos(th₂)⎥\n",
       "⎢                                                                     ⎥\n",
       "⎢    -sin(th₂)          0          cos(th₂)         l₁ - l₂⋅sin(th₂)  ⎥\n",
       "⎢                                                                     ⎥\n",
       "⎣        0              0              0                   1          ⎦"
      ]
     },
     "execution_count": 70,
     "metadata": {},
     "output_type": "execute_result"
    }
   ],
   "source": [
    "sympy.simplify(T03)"
   ]
  },
  {
   "cell_type": "code",
   "execution_count": null,
   "id": "027bb611",
   "metadata": {},
   "outputs": [],
   "source": []
  }
 ],
 "metadata": {
  "kernelspec": {
   "display_name": "Python 3",
   "language": "python",
   "name": "python3"
  },
  "language_info": {
   "codemirror_mode": {
    "name": "ipython",
    "version": 3
   },
   "file_extension": ".py",
   "mimetype": "text/x-python",
   "name": "python",
   "nbconvert_exporter": "python",
   "pygments_lexer": "ipython3",
   "version": "3.8.8"
  }
 },
 "nbformat": 4,
 "nbformat_minor": 5
}
