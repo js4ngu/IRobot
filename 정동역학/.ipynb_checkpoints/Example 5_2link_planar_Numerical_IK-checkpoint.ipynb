{
 "cells": [
  {
   "cell_type": "markdown",
   "metadata": {},
   "source": [
    "## Intelligent Robotics Python Library 사용 예제 5 - Numerical Inverse Kinematics\n",
    "## Written by 최동일, dongilc@mju.ac.kr\n",
    "### BSD License."
   ]
  },
  {
   "cell_type": "code",
   "execution_count": 1,
   "metadata": {},
   "outputs": [],
   "source": [
    "import intelligent_robotics as ir\n",
    "import sympy\n",
    "import numpy as np\n",
    "sympy.init_printing()"
   ]
  },
  {
   "cell_type": "markdown",
   "metadata": {},
   "source": [
    "### 예제 5. 예제 3-8의 2-Link Planar 로봇의 역기구학"
   ]
  }
 ],
 "metadata": {
  "kernelspec": {
   "display_name": "Python 3 (ipykernel)",
   "language": "python",
   "name": "python3"
  },
  "language_info": {
   "codemirror_mode": {
    "name": "ipython",
    "version": 3
   },
   "file_extension": ".py",
   "mimetype": "text/x-python",
   "name": "python",
   "nbconvert_exporter": "python",
   "pygments_lexer": "ipython3",
   "version": "3.9.2"
  }
 },
 "nbformat": 4,
 "nbformat_minor": 4
}
